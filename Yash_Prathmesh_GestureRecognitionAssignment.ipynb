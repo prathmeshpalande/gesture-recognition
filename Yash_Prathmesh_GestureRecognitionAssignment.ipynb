{
  "nbformat": 4,
  "nbformat_minor": 0,
  "metadata": {
    "accelerator": "GPU",
    "colab": {
      "name": "Neural_Nets_Project_Starter_Code (1).ipynb",
      "provenance": []
    },
    "kernelspec": {
      "display_name": "Python 3",
      "language": "python",
      "name": "python3"
    },
    "language_info": {
      "codemirror_mode": {
        "name": "ipython",
        "version": 3
      },
      "file_extension": ".py",
      "mimetype": "text/x-python",
      "name": "python",
      "nbconvert_exporter": "python",
      "pygments_lexer": "ipython3",
      "version": "3.8.3"
    }
  },
  "cells": [
    {
      "cell_type": "markdown",
      "metadata": {
        "id": "ovG7GjVVzj9e"
      },
      "source": [
        "# Gesture Recognition\n",
        "In this group project, you are going to build a 3D Conv model that will be able to predict the 5 gestures correctly. Please import the following libraries to get started."
      ]
    },
    {
      "cell_type": "code",
      "metadata": {
        "id": "lWQAiImhzj9h"
      },
      "source": [
        "import numpy as np\n",
        "import os\n",
        "from cv2 import imread\n",
        "from skimage.transform import resize as imresize\n",
        "import datetime\n",
        "import os\n",
        "import warnings\n",
        "import abc\n",
        "from sys import getsizeof\n",
        "import cv2\n",
        "import matplotlib.pyplot as plt\n",
        "\n",
        "from keras.models import Sequential, Model\n",
        "from keras.layers import Dense, GRU, Flatten, TimeDistributed, Flatten, BatchNormalization, Activation\n",
        "from keras.layers.convolutional import Conv3D, MaxPooling3D, Conv2D, MaxPooling2D\n",
        "from keras.layers.recurrent import LSTM\n",
        "from keras.callbacks import ModelCheckpoint, ReduceLROnPlateau\n",
        "from keras import optimizers\n",
        "from keras.layers import Dropout\n",
        "\n",
        "import random as rn\n",
        "from keras import backend as K\n",
        "import tensorflow as tf"
      ],
      "execution_count": null,
      "outputs": []
    },
    {
      "cell_type": "markdown",
      "metadata": {
        "id": "5lst2WHrzj9i"
      },
      "source": [
        "We set the random seed so that the results don't vary drastically."
      ]
    },
    {
      "cell_type": "code",
      "metadata": {
        "id": "_rzCjjIWzj9j"
      },
      "source": [
        "warnings.filterwarnings(\"ignore\")\n",
        "%matplotlib inline\n",
        "np.random.seed(30)\n",
        "rn.seed(30)\n",
        "tf.random.set_seed(30)"
      ],
      "execution_count": null,
      "outputs": []
    },
    {
      "cell_type": "code",
      "metadata": {
        "id": "npcIT8zqzj9j"
      },
      "source": [
        "def plot(history):\n",
        "    fig, axes = plt.subplots(nrows=1, ncols=2, figsize=(15,4))\n",
        "    axes[0].plot(history.history['loss'])   \n",
        "    axes[0].plot(history.history['val_loss'])\n",
        "    axes[0].legend(['loss','val_loss'])\n",
        "\n",
        "    axes[1].plot(history.history['categorical_accuracy'])   \n",
        "    axes[1].plot(history.history['val_categorical_accuracy'])\n",
        "    axes[1].legend(['categorical_accuracy','val_categorical_accuracy'])"
      ],
      "execution_count": null,
      "outputs": []
    },
    {
      "cell_type": "code",
      "metadata": {
        "colab": {
          "base_uri": "https://localhost:8080/"
        },
        "id": "6j2-QYYKzj9k",
        "outputId": "d9e1c5aa-c2ec-4297-9539-1164a3bc46be"
      },
      "source": [
        "## If you are using the data by mounting the google drive, use the following :\n",
        "from google.colab import drive\n",
        "\n",
        "drive.mount('/content/gdrive')\n",
        "root_folder = 'gdrive/My Drive/GestureRecognition/Project_data'"
      ],
      "execution_count": null,
      "outputs": [
        {
          "output_type": "stream",
          "text": [
            "Mounted at /content/gdrive\n"
          ],
          "name": "stdout"
        }
      ]
    },
    {
      "cell_type": "markdown",
      "metadata": {
        "id": "HhvotRTmzj9k"
      },
      "source": [
        "## Generator\n",
        "This is one of the most important part of the code. The overall structure of the generator has been given. In the generator, you are going to preprocess the images as you have images of 2 different dimensions as well as create a batch of video frames. You have to experiment with `img_idx`, `y`,`z` and normalization such that you get high accuracy."
      ]
    },
    {
      "cell_type": "code",
      "metadata": {
        "id": "MVfL8z3Qzj9l"
      },
      "source": [
        "class ModelBuilder(metaclass= abc.ABCMeta):\n",
        "    \n",
        "    def initialize_path(self,root_folder):\n",
        "        self.document_train = np.random.permutation(open(root_folder + '/' + 'train.csv').readlines())\n",
        "        self.document_validation = np.random.permutation(open(root_folder + '/' + 'val.csv').readlines())\n",
        "        self.path_train = root_folder + '/' + 'train'\n",
        "        self.path_validation =  root_folder + '/' + 'val'\n",
        "        self.num_seq_train = len(self.document_train)\n",
        "        self.num_seq_validation = len(self.document_validation)\n",
        "        \n",
        "    def initialize_prop_images(self,image_height=100,image_width=100):\n",
        "        self.image_height=image_height\n",
        "        self.image_width=image_width\n",
        "        self.channels=3\n",
        "        self.num_classes=5\n",
        "        self.total_frames=30\n",
        "          \n",
        "    def initialize_hyperparams(self,sample_frames=30,batch_size=20,num_epochs=20):\n",
        "        self.sample_frames=sample_frames\n",
        "        self.batch_size=batch_size\n",
        "        self.num_epochs=num_epochs\n",
        "        \n",
        "        \n",
        "    def generator(self,source_path, folder_list, augment=False):\n",
        "        img_idx = np.round(np.linspace(0,self.total_frames-1,self.sample_frames)).astype(int)\n",
        "        batch_size=self.batch_size\n",
        "        while True:\n",
        "            t = np.random.permutation(folder_list)\n",
        "            num_batches = len(t)//batch_size\n",
        "        \n",
        "            for batch in range(num_batches): \n",
        "                batch_data, batch_labels= self.one_batch_data(source_path,t,batch,batch_size,img_idx,augment)\n",
        "                yield batch_data, batch_labels \n",
        "\n",
        "            remaining_seq=len(t)%batch_size\n",
        "        \n",
        "            if (remaining_seq != 0):\n",
        "                batch_data, batch_labels= self.one_batch_data(source_path,t,num_batches,batch_size,img_idx,augment,remaining_seq)\n",
        "                yield batch_data, batch_labels \n",
        "    \n",
        "    \n",
        "    def one_batch_data(self,source_path,t,batch,batch_size,img_idx,augment,remaining_seq=0):\n",
        "    \n",
        "        seq_len = remaining_seq if remaining_seq else batch_size\n",
        "    \n",
        "        batch_data = np.zeros((seq_len,len(img_idx),self.image_height,self.image_width,self.channels)) \n",
        "        batch_labels = np.zeros((seq_len,self.num_classes)) \n",
        "    \n",
        "        if (augment): batch_data_aug = np.zeros((seq_len,len(img_idx),self.image_height,self.image_width,self.channels))\n",
        "\n",
        "        \n",
        "        for folder in range(seq_len): \n",
        "            imgs = os.listdir(source_path+'/'+ t[folder + (batch*batch_size)].split(';')[0]) \n",
        "            for idx,item in enumerate(img_idx): \n",
        "                image = imread(source_path+'/'+ t[folder + (batch*batch_size)].strip().split(';')[0]+'/'+imgs[item]).astype(np.float32)\n",
        "                image_resized=imresize(image,(self.image_height,self.image_width,3))\n",
        "            \n",
        "\n",
        "                batch_data[folder,idx,:,:,0] = (image_resized[:,:,0])/255\n",
        "                batch_data[folder,idx,:,:,1] = (image_resized[:,:,1])/255\n",
        "                batch_data[folder,idx,:,:,2] = (image_resized[:,:,2])/255\n",
        "            \n",
        "                if (augment):\n",
        "                    shifted = cv2.warpAffine(image, \n",
        "                                             np.float32([[1, 0, np.random.randint(-30,30)],[0, 1, np.random.randint(-30,30)]]), \n",
        "                                            (image.shape[1], image.shape[0]))\n",
        "                    \n",
        "                    gray = cv2.cvtColor(shifted,cv2.COLOR_BGR2GRAY)\n",
        "\n",
        "                    x0, y0 = np.argwhere(gray > 0).min(axis=0)\n",
        "                    x1, y1 = np.argwhere(gray > 0).max(axis=0) \n",
        "                    \n",
        "                    cropped=shifted[x0:x1,y0:y1,:]\n",
        "                    \n",
        "                    image_resized=imresize(cropped,(self.image_height,self.image_width,3))\n",
        "                    \n",
        "                    #shifted = cv2.warpAffine(image_resized, \n",
        "                    #                        np.float32([[1, 0, np.random.randint(-3,3)],[0, 1, np.random.randint(-3,3)]]), \n",
        "                    #                        (image_resized.shape[1], image_resized.shape[0]))\n",
        "            \n",
        "                    batch_data_aug[folder,idx,:,:,0] = (image_resized[:,:,0])/255\n",
        "                    batch_data_aug[folder,idx,:,:,1] = (image_resized[:,:,1])/255\n",
        "                    batch_data_aug[folder,idx,:,:,2] = (image_resized[:,:,2])/255\n",
        "                \n",
        "            \n",
        "            batch_labels[folder, int(t[folder + (batch*batch_size)].strip().split(';')[2])] = 1\n",
        "            \n",
        "    \n",
        "        if (augment):\n",
        "            batch_data=np.concatenate([batch_data,batch_data_aug])\n",
        "            batch_labels=np.concatenate([batch_labels,batch_labels])\n",
        "\n",
        "        \n",
        "        return(batch_data,batch_labels)\n",
        "    \n",
        "    \n",
        "    def train_model(self, model, augment_data=False):\n",
        "        train_generator = self.generator(self.path_train, self.document_train,augment=augment_data)\n",
        "        val_generator = self.generator(self.path_validation, self.document_validation)\n",
        "\n",
        "        model_name = 'gdrive/My Drive/GestureRecognition/'+'model_init' + '_' + str(datetime.datetime.now()).replace(' ','').replace(':','_') + '/'\n",
        "    \n",
        "        if not os.path.exists(model_name):\n",
        "            os.mkdir(model_name)\n",
        "        \n",
        "        filepath = model_name + 'model-{epoch:05d}-{loss:.5f}-{categorical_accuracy:.5f}-{val_loss:.5f}-{val_categorical_accuracy:.5f}.h5'\n",
        "\n",
        "        checkpoint = ModelCheckpoint(filepath, monitor='val_loss', verbose=1, save_best_only=False, save_weights_only=False, mode='auto', period=1)\n",
        "        LR = ReduceLROnPlateau(monitor='val_loss', factor=0.2, verbose=1, patience=4)\n",
        "        callbacks_list = [checkpoint, LR]\n",
        "\n",
        "        if (self.num_seq_train%self.batch_size) == 0:\n",
        "            steps_per_epoch = int(self.num_seq_train/self.batch_size)\n",
        "        else:\n",
        "            steps_per_epoch = (self.num_seq_train//self.batch_size) + 1\n",
        "\n",
        "        if (self.num_seq_validation%self.batch_size) == 0:\n",
        "            validation_steps = int(self.num_seq_validation/self.batch_size)\n",
        "        else:\n",
        "            validation_steps = (self.num_seq_validation//self.batch_size) + 1\n",
        "    \n",
        "        history=model.fit_generator(train_generator, steps_per_epoch=steps_per_epoch, epochs=self.num_epochs, verbose=1, \n",
        "                            callbacks=callbacks_list, validation_data=val_generator, \n",
        "                            validation_steps=validation_steps, class_weight=None, workers=1, initial_epoch=0)\n",
        "        return history\n",
        "\n",
        "        \n",
        "    @abc.abstractmethod\n",
        "    def define_model(self):\n",
        "        pass"
      ],
      "execution_count": null,
      "outputs": []
    },
    {
      "cell_type": "markdown",
      "metadata": {
        "id": "xmNKlZVkzj9o"
      },
      "source": [
        "# Initial Model"
      ]
    },
    {
      "cell_type": "code",
      "metadata": {
        "id": "DBZ-w3DAzj9p"
      },
      "source": [
        "class ModelConv3DSample(ModelBuilder):\n",
        "    \n",
        "    def define_model(self):\n",
        "\n",
        "        model = Sequential()\n",
        "        \n",
        "        model.add(Conv3D(16, (3, 3, 3), padding='same',\n",
        "                 input_shape=(self.sample_frames,self.image_height,self.image_width,self.channels)))\n",
        "        model.add(Activation('relu'))\n",
        "        model.add(BatchNormalization())\n",
        "        model.add(MaxPooling3D(pool_size=(2, 2, 2)))\n",
        "\n",
        "        model.add(Conv3D(32, (2, 2, 2), padding='same'))\n",
        "        model.add(Activation('relu'))\n",
        "        model.add(BatchNormalization())\n",
        "        model.add(MaxPooling3D(pool_size=(2, 2, 2)))\n",
        "\n",
        "        model.add(Conv3D(64, (2, 2, 2), padding='same'))\n",
        "        model.add(Activation('relu'))\n",
        "        model.add(BatchNormalization())\n",
        "        model.add(MaxPooling3D(pool_size=(2, 2, 2)))\n",
        "\n",
        "        model.add(Conv3D(128, (2, 2, 2), padding='same'))\n",
        "        model.add(Activation('relu'))\n",
        "        model.add(BatchNormalization())\n",
        "        model.add(MaxPooling3D(pool_size=(2, 2, 2)))\n",
        "\n",
        "        model.add(Flatten())\n",
        "        model.add(Dense(128,activation='relu'))\n",
        "        model.add(BatchNormalization())\n",
        "        model.add(Dropout(0.5))\n",
        "\n",
        "        model.add(Dense(64,activation='relu'))\n",
        "        model.add(BatchNormalization())\n",
        "        model.add(Dropout(0.25))\n",
        "\n",
        "        model.add(Dense(self.num_classes,activation='softmax'))\n",
        "\n",
        "        optimiser = optimizers.Adam()\n",
        "        \n",
        "        model.compile(optimizer=optimiser, loss='categorical_crossentropy', metrics=['categorical_accuracy'])\n",
        "        \n",
        "        return model"
      ],
      "execution_count": null,
      "outputs": []
    },
    {
      "cell_type": "code",
      "metadata": {
        "colab": {
          "base_uri": "https://localhost:8080/"
        },
        "id": "qZ5lDoP1zj9p",
        "outputId": "aed84df8-2bf0-4764-fa87-c9b31dfcf2ea"
      },
      "source": [
        "conv_3d1 = ModelConv3DSample()\n",
        "conv_3d1.initialize_path(root_folder)\n",
        "conv_3d1.initialize_prop_images(image_height=160,image_width=160)\n",
        "conv_3d1.initialize_hyperparams(sample_frames=30,batch_size=40,num_epochs=1)\n",
        "conv_3d1_model = conv_3d1.define_model()\n",
        "conv_3d1_model.summary()"
      ],
      "execution_count": null,
      "outputs": [
        {
          "output_type": "stream",
          "text": [
            "Model: \"sequential\"\n",
            "_________________________________________________________________\n",
            "Layer (type)                 Output Shape              Param #   \n",
            "=================================================================\n",
            "conv3d (Conv3D)              (None, 30, 160, 160, 16)  1312      \n",
            "_________________________________________________________________\n",
            "activation (Activation)      (None, 30, 160, 160, 16)  0         \n",
            "_________________________________________________________________\n",
            "batch_normalization (BatchNo (None, 30, 160, 160, 16)  64        \n",
            "_________________________________________________________________\n",
            "max_pooling3d (MaxPooling3D) (None, 15, 80, 80, 16)    0         \n",
            "_________________________________________________________________\n",
            "conv3d_1 (Conv3D)            (None, 15, 80, 80, 32)    4128      \n",
            "_________________________________________________________________\n",
            "activation_1 (Activation)    (None, 15, 80, 80, 32)    0         \n",
            "_________________________________________________________________\n",
            "batch_normalization_1 (Batch (None, 15, 80, 80, 32)    128       \n",
            "_________________________________________________________________\n",
            "max_pooling3d_1 (MaxPooling3 (None, 7, 40, 40, 32)     0         \n",
            "_________________________________________________________________\n",
            "conv3d_2 (Conv3D)            (None, 7, 40, 40, 64)     16448     \n",
            "_________________________________________________________________\n",
            "activation_2 (Activation)    (None, 7, 40, 40, 64)     0         \n",
            "_________________________________________________________________\n",
            "batch_normalization_2 (Batch (None, 7, 40, 40, 64)     256       \n",
            "_________________________________________________________________\n",
            "max_pooling3d_2 (MaxPooling3 (None, 3, 20, 20, 64)     0         \n",
            "_________________________________________________________________\n",
            "conv3d_3 (Conv3D)            (None, 3, 20, 20, 128)    65664     \n",
            "_________________________________________________________________\n",
            "activation_3 (Activation)    (None, 3, 20, 20, 128)    0         \n",
            "_________________________________________________________________\n",
            "batch_normalization_3 (Batch (None, 3, 20, 20, 128)    512       \n",
            "_________________________________________________________________\n",
            "max_pooling3d_3 (MaxPooling3 (None, 1, 10, 10, 128)    0         \n",
            "_________________________________________________________________\n",
            "flatten (Flatten)            (None, 12800)             0         \n",
            "_________________________________________________________________\n",
            "dense (Dense)                (None, 128)               1638528   \n",
            "_________________________________________________________________\n",
            "batch_normalization_4 (Batch (None, 128)               512       \n",
            "_________________________________________________________________\n",
            "dropout (Dropout)            (None, 128)               0         \n",
            "_________________________________________________________________\n",
            "dense_1 (Dense)              (None, 64)                8256      \n",
            "_________________________________________________________________\n",
            "batch_normalization_5 (Batch (None, 64)                256       \n",
            "_________________________________________________________________\n",
            "dropout_1 (Dropout)          (None, 64)                0         \n",
            "_________________________________________________________________\n",
            "dense_2 (Dense)              (None, 5)                 325       \n",
            "=================================================================\n",
            "Total params: 1,736,389\n",
            "Trainable params: 1,735,525\n",
            "Non-trainable params: 864\n",
            "_________________________________________________________________\n"
          ],
          "name": "stdout"
        }
      ]
    },
    {
      "cell_type": "markdown",
      "metadata": {
        "id": "JrA9qX6rzj9q"
      },
      "source": [
        "## Experimenting with Image resolution and batch_size: Please refer to write-up for the experimentation results"
      ]
    },
    {
      "cell_type": "markdown",
      "metadata": {
        "id": "IOg91VLszj9r"
      },
      "source": [
        "### We had issues with hitting memory limit on resources with image resolution of 160x160 with 30 frames and batch_size of 40, getting the below error:\n",
        "ResourceExhaustedError: OOM when allocating tensor with shape[40,16,30,160,160] and type float on /job:localhost/replica:0/task:0/device:GPU:0 by allocator GPU_0_bfc"
      ]
    },
    {
      "cell_type": "markdown",
      "metadata": {
        "id": "S-0crvCBzj9r"
      },
      "source": [
        "##### We may want to tweak the resolution and the batch size to optimize the model"
      ]
    },
    {
      "cell_type": "markdown",
      "metadata": {
        "id": "b63FXvUyzj9r"
      },
      "source": [
        "# Model with reduced number of parameters (*Model 4 from the writeup*)"
      ]
    },
    {
      "cell_type": "code",
      "metadata": {
        "id": "g8QOzHCpzj9s"
      },
      "source": [
        "class ModelConv3DReducedParams(ModelBuilder):\n",
        "    \n",
        "    def define_model(self,dense_neurons=64,dropout=0.25):\n",
        "\n",
        "        model = Sequential()\n",
        "        model.add(Conv3D(8, (3, 3, 3), padding='same',\n",
        "                 input_shape=(self.sample_frames,self.image_height,self.image_width,self.channels)))\n",
        "        model.add(Activation('relu'))\n",
        "        model.add(BatchNormalization())\n",
        "        model.add(MaxPooling3D(pool_size=(2, 2, 2)))\n",
        "\n",
        "        model.add(Conv3D(16, (3, 3, 3), padding='same'))\n",
        "        model.add(Activation('relu'))\n",
        "        model.add(BatchNormalization())\n",
        "        model.add(MaxPooling3D(pool_size=(2, 2, 2)))\n",
        "\n",
        "        model.add(Conv3D(32, (2, 2, 2), padding='same'))\n",
        "        model.add(Activation('relu'))\n",
        "        model.add(BatchNormalization())\n",
        "        model.add(MaxPooling3D(pool_size=(2, 2, 2)))\n",
        "\n",
        "        model.add(Conv3D(64, (2, 2, 2), padding='same'))\n",
        "        model.add(Activation('relu'))\n",
        "        model.add(BatchNormalization())\n",
        "        model.add(MaxPooling3D(pool_size=(2, 2, 2)))\n",
        "        \n",
        "        model.add(Flatten())\n",
        "        model.add(Dense(dense_neurons,activation='relu'))\n",
        "        model.add(BatchNormalization())\n",
        "        model.add(Dropout(dropout))\n",
        "\n",
        "        model.add(Dense(dense_neurons,activation='relu'))\n",
        "        model.add(BatchNormalization())\n",
        "        model.add(Dropout(dropout))\n",
        "\n",
        "        model.add(Dense(self.num_classes,activation='softmax'))\n",
        "\n",
        "        optimiser = optimizers.Adam(lr=0.0002)\n",
        "        model.compile(optimizer=optimiser, loss='categorical_crossentropy', metrics=['categorical_accuracy'])\n",
        "        return model"
      ],
      "execution_count": null,
      "outputs": []
    },
    {
      "cell_type": "code",
      "metadata": {
        "colab": {
          "base_uri": "https://localhost:8080/"
        },
        "id": "X1lfF1FVzj9s",
        "outputId": "e5be58fd-f923-4a90-cbcc-3723494f1fe7"
      },
      "source": [
        "conv_3d_reduced_params = ModelConv3DReducedParams()\n",
        "conv_3d_reduced_params.initialize_path(root_folder)\n",
        "conv_3d_reduced_params.initialize_prop_images(image_height=120,image_width=120)\n",
        "conv_3d_reduced_params.initialize_hyperparams(sample_frames=16,batch_size=20,num_epochs=30)\n",
        "conv_3d_reduced_params_model = conv_3d_reduced_params.define_model(dense_neurons=64,dropout=0.25)\n",
        "conv_3d_reduced_params_model.summary()"
      ],
      "execution_count": null,
      "outputs": [
        {
          "output_type": "stream",
          "text": [
            "Model: \"sequential_1\"\n",
            "_________________________________________________________________\n",
            "Layer (type)                 Output Shape              Param #   \n",
            "=================================================================\n",
            "conv3d_4 (Conv3D)            (None, 16, 120, 120, 8)   656       \n",
            "_________________________________________________________________\n",
            "activation_4 (Activation)    (None, 16, 120, 120, 8)   0         \n",
            "_________________________________________________________________\n",
            "batch_normalization_6 (Batch (None, 16, 120, 120, 8)   32        \n",
            "_________________________________________________________________\n",
            "max_pooling3d_4 (MaxPooling3 (None, 8, 60, 60, 8)      0         \n",
            "_________________________________________________________________\n",
            "conv3d_5 (Conv3D)            (None, 8, 60, 60, 16)     3472      \n",
            "_________________________________________________________________\n",
            "activation_5 (Activation)    (None, 8, 60, 60, 16)     0         \n",
            "_________________________________________________________________\n",
            "batch_normalization_7 (Batch (None, 8, 60, 60, 16)     64        \n",
            "_________________________________________________________________\n",
            "max_pooling3d_5 (MaxPooling3 (None, 4, 30, 30, 16)     0         \n",
            "_________________________________________________________________\n",
            "conv3d_6 (Conv3D)            (None, 4, 30, 30, 32)     4128      \n",
            "_________________________________________________________________\n",
            "activation_6 (Activation)    (None, 4, 30, 30, 32)     0         \n",
            "_________________________________________________________________\n",
            "batch_normalization_8 (Batch (None, 4, 30, 30, 32)     128       \n",
            "_________________________________________________________________\n",
            "max_pooling3d_6 (MaxPooling3 (None, 2, 15, 15, 32)     0         \n",
            "_________________________________________________________________\n",
            "conv3d_7 (Conv3D)            (None, 2, 15, 15, 64)     16448     \n",
            "_________________________________________________________________\n",
            "activation_7 (Activation)    (None, 2, 15, 15, 64)     0         \n",
            "_________________________________________________________________\n",
            "batch_normalization_9 (Batch (None, 2, 15, 15, 64)     256       \n",
            "_________________________________________________________________\n",
            "max_pooling3d_7 (MaxPooling3 (None, 1, 7, 7, 64)       0         \n",
            "_________________________________________________________________\n",
            "flatten_1 (Flatten)          (None, 3136)              0         \n",
            "_________________________________________________________________\n",
            "dense_3 (Dense)              (None, 64)                200768    \n",
            "_________________________________________________________________\n",
            "batch_normalization_10 (Batc (None, 64)                256       \n",
            "_________________________________________________________________\n",
            "dropout_2 (Dropout)          (None, 64)                0         \n",
            "_________________________________________________________________\n",
            "dense_4 (Dense)              (None, 64)                4160      \n",
            "_________________________________________________________________\n",
            "batch_normalization_11 (Batc (None, 64)                256       \n",
            "_________________________________________________________________\n",
            "dropout_3 (Dropout)          (None, 64)                0         \n",
            "_________________________________________________________________\n",
            "dense_5 (Dense)              (None, 5)                 325       \n",
            "=================================================================\n",
            "Total params: 230,949\n",
            "Trainable params: 230,453\n",
            "Non-trainable params: 496\n",
            "_________________________________________________________________\n"
          ],
          "name": "stdout"
        }
      ]
    },
    {
      "cell_type": "code",
      "metadata": {
        "colab": {
          "base_uri": "https://localhost:8080/"
        },
        "id": "lPwJnWmxzj9t",
        "outputId": "310c3333-99b4-4350-a877-a681c062f69a"
      },
      "source": [
        "print(\"Prameter Count:\", conv_3d_reduced_params_model.count_params())\n",
        "history_model_reduced_params = conv_3d_reduced_params.train_model(conv_3d_reduced_params_model, augment_data=True)"
      ],
      "execution_count": null,
      "outputs": [
        {
          "output_type": "stream",
          "text": [
            "Prameter Count: 230949\n",
            "WARNING:tensorflow:`period` argument is deprecated. Please use `save_freq` to specify the frequency in number of batches seen.\n",
            "Epoch 1/30\n",
            "34/34 [==============================] - 3531s 106s/step - loss: 2.0534 - categorical_accuracy: 0.2871 - val_loss: 1.7053 - val_categorical_accuracy: 0.2200\n",
            "\n",
            "Epoch 00001: saving model to gdrive/My Drive/GestureRecognition/model_init_2021-05-0211_14_22.433357/model-00001-1.88932-0.32127-1.70535-0.22000.h5\n",
            "Epoch 2/30\n",
            "34/34 [==============================] - 221s 7s/step - loss: 1.4819 - categorical_accuracy: 0.4416 - val_loss: 2.2313 - val_categorical_accuracy: 0.2100\n",
            "\n",
            "Epoch 00002: saving model to gdrive/My Drive/GestureRecognition/model_init_2021-05-0211_14_22.433357/model-00002-1.42520-0.46456-2.23133-0.21000.h5\n",
            "Epoch 3/30\n",
            "34/34 [==============================] - 219s 7s/step - loss: 1.1777 - categorical_accuracy: 0.5665 - val_loss: 2.6002 - val_categorical_accuracy: 0.2200\n",
            "\n",
            "Epoch 00003: saving model to gdrive/My Drive/GestureRecognition/model_init_2021-05-0211_14_22.433357/model-00003-1.20318-0.55732-2.60023-0.22000.h5\n",
            "Epoch 4/30\n",
            "34/34 [==============================] - 219s 7s/step - loss: 1.1168 - categorical_accuracy: 0.5672 - val_loss: 3.4869 - val_categorical_accuracy: 0.1900\n",
            "\n",
            "Epoch 00004: saving model to gdrive/My Drive/GestureRecognition/model_init_2021-05-0211_14_22.433357/model-00004-1.12920-0.56561-3.48691-0.19000.h5\n",
            "Epoch 5/30\n",
            "34/34 [==============================] - 218s 7s/step - loss: 1.0032 - categorical_accuracy: 0.6104 - val_loss: 3.3611 - val_categorical_accuracy: 0.2600\n",
            "\n",
            "Epoch 00005: saving model to gdrive/My Drive/GestureRecognition/model_init_2021-05-0211_14_22.433357/model-00005-1.01820-0.59879-3.36110-0.26000.h5\n",
            "\n",
            "Epoch 00005: ReduceLROnPlateau reducing learning rate to 3.9999998989515007e-05.\n",
            "Epoch 6/30\n",
            "34/34 [==============================] - 220s 7s/step - loss: 0.9439 - categorical_accuracy: 0.6288 - val_loss: 3.3714 - val_categorical_accuracy: 0.2500\n",
            "\n",
            "Epoch 00006: saving model to gdrive/My Drive/GestureRecognition/model_init_2021-05-0211_14_22.433357/model-00006-0.95200-0.63499-3.37142-0.25000.h5\n",
            "Epoch 7/30\n",
            "34/34 [==============================] - 220s 7s/step - loss: 0.9326 - categorical_accuracy: 0.6359 - val_loss: 3.3574 - val_categorical_accuracy: 0.2700\n",
            "\n",
            "Epoch 00007: saving model to gdrive/My Drive/GestureRecognition/model_init_2021-05-0211_14_22.433357/model-00007-0.92749-0.63876-3.35745-0.27000.h5\n",
            "Epoch 8/30\n",
            "34/34 [==============================] - 216s 7s/step - loss: 0.9465 - categorical_accuracy: 0.6401 - val_loss: 2.7982 - val_categorical_accuracy: 0.3400\n",
            "\n",
            "Epoch 00008: saving model to gdrive/My Drive/GestureRecognition/model_init_2021-05-0211_14_22.433357/model-00008-0.92038-0.65158-2.79820-0.34000.h5\n",
            "Epoch 9/30\n",
            "34/34 [==============================] - 220s 7s/step - loss: 0.8549 - categorical_accuracy: 0.6690 - val_loss: 3.0226 - val_categorical_accuracy: 0.2400\n",
            "\n",
            "Epoch 00009: saving model to gdrive/My Drive/GestureRecognition/model_init_2021-05-0211_14_22.433357/model-00009-0.86190-0.66063-3.02257-0.24000.h5\n",
            "\n",
            "Epoch 00009: ReduceLROnPlateau reducing learning rate to 7.999999797903002e-06.\n",
            "Epoch 10/30\n",
            "34/34 [==============================] - 217s 7s/step - loss: 0.8757 - categorical_accuracy: 0.6559 - val_loss: 2.5920 - val_categorical_accuracy: 0.3000\n",
            "\n",
            "Epoch 00010: saving model to gdrive/My Drive/GestureRecognition/model_init_2021-05-0211_14_22.433357/model-00010-0.85329-0.67949-2.59202-0.30000.h5\n",
            "Epoch 11/30\n",
            "34/34 [==============================] - 217s 7s/step - loss: 0.8687 - categorical_accuracy: 0.6856 - val_loss: 2.3450 - val_categorical_accuracy: 0.3300\n",
            "\n",
            "Epoch 00011: saving model to gdrive/My Drive/GestureRecognition/model_init_2021-05-0211_14_22.433357/model-00011-0.86017-0.67722-2.34497-0.33000.h5\n",
            "Epoch 12/30\n",
            "34/34 [==============================] - 219s 7s/step - loss: 0.8457 - categorical_accuracy: 0.6696 - val_loss: 2.1290 - val_categorical_accuracy: 0.3600\n",
            "\n",
            "Epoch 00012: saving model to gdrive/My Drive/GestureRecognition/model_init_2021-05-0211_14_22.433357/model-00012-0.87092-0.66214-2.12899-0.36000.h5\n",
            "Epoch 13/30\n",
            "34/34 [==============================] - 219s 7s/step - loss: 0.8873 - categorical_accuracy: 0.6911 - val_loss: 2.0390 - val_categorical_accuracy: 0.3200\n",
            "\n",
            "Epoch 00013: saving model to gdrive/My Drive/GestureRecognition/model_init_2021-05-0211_14_22.433357/model-00013-0.86936-0.67873-2.03903-0.32000.h5\n",
            "\n",
            "Epoch 00013: ReduceLROnPlateau reducing learning rate to 1.5999999959603884e-06.\n",
            "Epoch 14/30\n",
            "34/34 [==============================] - 221s 7s/step - loss: 0.8354 - categorical_accuracy: 0.6803 - val_loss: 1.7271 - val_categorical_accuracy: 0.3900\n",
            "\n",
            "Epoch 00014: saving model to gdrive/My Drive/GestureRecognition/model_init_2021-05-0211_14_22.433357/model-00014-0.85447-0.67044-1.72713-0.39000.h5\n",
            "Epoch 15/30\n",
            "34/34 [==============================] - 218s 7s/step - loss: 0.9020 - categorical_accuracy: 0.6596 - val_loss: 1.6648 - val_categorical_accuracy: 0.4300\n",
            "\n",
            "Epoch 00015: saving model to gdrive/My Drive/GestureRecognition/model_init_2021-05-0211_14_22.433357/model-00015-0.85551-0.67873-1.66482-0.43000.h5\n",
            "Epoch 16/30\n",
            "34/34 [==============================] - 218s 7s/step - loss: 0.8550 - categorical_accuracy: 0.6619 - val_loss: 1.5238 - val_categorical_accuracy: 0.4400\n",
            "\n",
            "Epoch 00016: saving model to gdrive/My Drive/GestureRecognition/model_init_2021-05-0211_14_22.433357/model-00016-0.82753-0.67722-1.52379-0.44000.h5\n",
            "Epoch 17/30\n",
            "34/34 [==============================] - 218s 7s/step - loss: 0.8762 - categorical_accuracy: 0.6529 - val_loss: 1.4119 - val_categorical_accuracy: 0.4700\n",
            "\n",
            "Epoch 00017: saving model to gdrive/My Drive/GestureRecognition/model_init_2021-05-0211_14_22.433357/model-00017-0.85429-0.66290-1.41190-0.47000.h5\n",
            "Epoch 18/30\n",
            "34/34 [==============================] - 225s 7s/step - loss: 0.8458 - categorical_accuracy: 0.6548 - val_loss: 1.3872 - val_categorical_accuracy: 0.5000\n",
            "\n",
            "Epoch 00018: saving model to gdrive/My Drive/GestureRecognition/model_init_2021-05-0211_14_22.433357/model-00018-0.81733-0.67722-1.38725-0.50000.h5\n",
            "Epoch 19/30\n",
            "34/34 [==============================] - 220s 7s/step - loss: 0.8324 - categorical_accuracy: 0.6729 - val_loss: 1.2938 - val_categorical_accuracy: 0.5300\n",
            "\n",
            "Epoch 00019: saving model to gdrive/My Drive/GestureRecognition/model_init_2021-05-0211_14_22.433357/model-00019-0.86265-0.66516-1.29377-0.53000.h5\n",
            "Epoch 20/30\n",
            "34/34 [==============================] - 220s 7s/step - loss: 0.8223 - categorical_accuracy: 0.6648 - val_loss: 1.1429 - val_categorical_accuracy: 0.5800\n",
            "\n",
            "Epoch 00020: saving model to gdrive/My Drive/GestureRecognition/model_init_2021-05-0211_14_22.433357/model-00020-0.82309-0.67496-1.14294-0.58000.h5\n",
            "Epoch 21/30\n",
            "34/34 [==============================] - 218s 7s/step - loss: 0.8203 - categorical_accuracy: 0.6950 - val_loss: 1.0968 - val_categorical_accuracy: 0.5800\n",
            "\n",
            "Epoch 00021: saving model to gdrive/My Drive/GestureRecognition/model_init_2021-05-0211_14_22.433357/model-00021-0.83102-0.68250-1.09679-0.58000.h5\n",
            "Epoch 22/30\n",
            "34/34 [==============================] - 220s 7s/step - loss: 0.8292 - categorical_accuracy: 0.6835 - val_loss: 1.0300 - val_categorical_accuracy: 0.6000\n",
            "\n",
            "Epoch 00022: saving model to gdrive/My Drive/GestureRecognition/model_init_2021-05-0211_14_22.433357/model-00022-0.85749-0.66139-1.03004-0.60000.h5\n",
            "Epoch 23/30\n",
            "34/34 [==============================] - 221s 7s/step - loss: 0.8748 - categorical_accuracy: 0.6452 - val_loss: 1.1047 - val_categorical_accuracy: 0.5900\n",
            "\n",
            "Epoch 00023: saving model to gdrive/My Drive/GestureRecognition/model_init_2021-05-0211_14_22.433357/model-00023-0.88066-0.64253-1.10469-0.59000.h5\n",
            "Epoch 24/30\n",
            "34/34 [==============================] - 219s 7s/step - loss: 0.8215 - categorical_accuracy: 0.6900 - val_loss: 0.9737 - val_categorical_accuracy: 0.5800\n",
            "\n",
            "Epoch 00024: saving model to gdrive/My Drive/GestureRecognition/model_init_2021-05-0211_14_22.433357/model-00024-0.82757-0.68552-0.97368-0.58000.h5\n",
            "Epoch 25/30\n",
            "34/34 [==============================] - 219s 7s/step - loss: 0.8079 - categorical_accuracy: 0.6801 - val_loss: 0.9332 - val_categorical_accuracy: 0.6500\n",
            "\n",
            "Epoch 00025: saving model to gdrive/My Drive/GestureRecognition/model_init_2021-05-0211_14_22.433357/model-00025-0.83458-0.66440-0.93320-0.65000.h5\n",
            "Epoch 26/30\n",
            "34/34 [==============================] - 219s 7s/step - loss: 0.7862 - categorical_accuracy: 0.7075 - val_loss: 0.9954 - val_categorical_accuracy: 0.6200\n",
            "\n",
            "Epoch 00026: saving model to gdrive/My Drive/GestureRecognition/model_init_2021-05-0211_14_22.433357/model-00026-0.82466-0.68477-0.99541-0.62000.h5\n",
            "Epoch 27/30\n",
            "34/34 [==============================] - 223s 7s/step - loss: 0.8223 - categorical_accuracy: 0.6741 - val_loss: 0.9822 - val_categorical_accuracy: 0.6200\n",
            "\n",
            "Epoch 00027: saving model to gdrive/My Drive/GestureRecognition/model_init_2021-05-0211_14_22.433357/model-00027-0.85273-0.66591-0.98225-0.62000.h5\n",
            "Epoch 28/30\n",
            "34/34 [==============================] - 222s 7s/step - loss: 0.8063 - categorical_accuracy: 0.6785 - val_loss: 1.0397 - val_categorical_accuracy: 0.6200\n",
            "\n",
            "Epoch 00028: saving model to gdrive/My Drive/GestureRecognition/model_init_2021-05-0211_14_22.433357/model-00028-0.82763-0.67949-1.03971-0.62000.h5\n",
            "Epoch 29/30\n",
            "34/34 [==============================] - 218s 7s/step - loss: 0.8340 - categorical_accuracy: 0.6732 - val_loss: 1.0156 - val_categorical_accuracy: 0.5700\n",
            "\n",
            "Epoch 00029: saving model to gdrive/My Drive/GestureRecognition/model_init_2021-05-0211_14_22.433357/model-00029-0.83277-0.66817-1.01558-0.57000.h5\n",
            "\n",
            "Epoch 00029: ReduceLROnPlateau reducing learning rate to 3.200000037395512e-07.\n",
            "Epoch 30/30\n",
            "34/34 [==============================] - 219s 7s/step - loss: 0.8444 - categorical_accuracy: 0.6702 - val_loss: 1.0292 - val_categorical_accuracy: 0.6300\n",
            "\n",
            "Epoch 00030: saving model to gdrive/My Drive/GestureRecognition/model_init_2021-05-0211_14_22.433357/model-00030-0.83588-0.67421-1.02919-0.63000.h5\n"
          ],
          "name": "stdout"
        }
      ]
    },
    {
      "cell_type": "code",
      "metadata": {
        "colab": {
          "base_uri": "https://localhost:8080/",
          "height": 265
        },
        "id": "7pvhm6Dtzj9t",
        "outputId": "6b7843ff-9129-4f9c-db8b-e8e38f6069c7"
      },
      "source": [
        "plot(history_model_reduced_params)"
      ],
      "execution_count": null,
      "outputs": [
        {
          "output_type": "display_data",
          "data": {
            "image/png": "[encoded data removed]",
            "text/plain": [
              "<Figure size 1080x288 with 2 Axes>"
            ]
          },
          "metadata": {
            "tags": [],
            "needs_background": "light"
          }
        }
      ]
    },
    {
      "cell_type": "code",
      "metadata": {
        "id": "lvVALv-xb0gA"
      },
      "source": [
        "class ModelBuilderMoreAugmentation(metaclass= abc.ABCMeta):\n",
        "    \n",
        "    def initialize_path(self,root_folder):\n",
        "        self.document_train = np.random.permutation(open(root_folder + '/' + 'train.csv').readlines())\n",
        "        self.document_validation = np.random.permutation(open(root_folder + '/' + 'val.csv').readlines())\n",
        "        self.path_train = root_folder + '/' + 'train'\n",
        "        self.path_validation =  root_folder + '/' + 'val'\n",
        "        self.num_seq_train = len(self.document_train)\n",
        "        self.num_seq_validation = len(self.document_validation)\n",
        "        \n",
        "    def initialize_prop_images(self,image_height=100, image_width=100):\n",
        "        self.image_height=image_height\n",
        "        self.image_width=image_width\n",
        "        self.channels=3\n",
        "        self.num_classes=5\n",
        "        self.total_frames=30\n",
        "          \n",
        "    def initialize_hyperparams(self,sample_frames=30, batch_size=20, num_epochs=20):\n",
        "        self.sample_frames=sample_frames\n",
        "        self.batch_size=batch_size\n",
        "        self.num_epochs=num_epochs\n",
        "        \n",
        "        \n",
        "    def generator(self,source_path, folder_list, augment=False):\n",
        "        img_idx = np.round(np.linspace(0, self.total_frames-1, self.sample_frames)).astype(int)\n",
        "        batch_size = self.batch_size\n",
        "        while True:\n",
        "            t = np.random.permutation(folder_list)\n",
        "            num_batches = len(t)//batch_size\n",
        "        \n",
        "            for batch in range(num_batches): \n",
        "                batch_data, batch_labels= self.one_batch_data(source_path,t,batch,batch_size,img_idx,augment)\n",
        "                yield batch_data, batch_labels \n",
        "\n",
        "            remaining_seq = len(t)%batch_size\n",
        "        \n",
        "            if (remaining_seq != 0):\n",
        "                batch_data, batch_labels= self.one_batch_data(source_path, t, num_batches, batch_size, img_idx, augment, remaining_seq)\n",
        "                yield batch_data, batch_labels \n",
        "    \n",
        "    \n",
        "    def one_batch_data(self, source_path, t, batch, batch_size, img_idx, augment, remaining_seq=0):\n",
        "    \n",
        "        seq_len = remaining_seq if remaining_seq else batch_size\n",
        "    \n",
        "        batch_data = np.zeros((seq_len, len(img_idx), self.image_height, self.image_width, self.channels)) \n",
        "        batch_labels = np.zeros((seq_len,self.num_classes)) \n",
        "    \n",
        "        if (augment):\n",
        "            batch_data_aug = np.zeros((seq_len, len(img_idx), self.image_height, self.image_width, self.channels))\n",
        "\n",
        "        \n",
        "        for folder in range(seq_len): \n",
        "            imgs = os.listdir(source_path+'/'+ t[folder + (batch*batch_size)].split(';')[0]) \n",
        "            for idx,item in enumerate(img_idx): \n",
        "                image = imread(source_path+'/'+ t[folder + (batch*batch_size)].strip().split(';')[0]+'/'+imgs[item]).astype(np.float32)\n",
        "                image_resized = imresize(image, (self.image_height, self.image_width, 3))\n",
        "            \n",
        "\n",
        "                batch_data[folder,idx,:,:,0] = (image_resized[:,:,0]) / 255\n",
        "                batch_data[folder,idx,:,:,1] = (image_resized[:,:,1]) / 255\n",
        "                batch_data[folder,idx,:,:,2] = (image_resized[:,:,2]) / 255\n",
        "            \n",
        "                if (augment):\n",
        "                    shifted = cv2.warpAffine(image, \n",
        "                                             np.float32([[1, 0, np.random.randint(-30,30)],[0, 1, np.random.randint(-30,30)]]), \n",
        "                                            (image.shape[1], image.shape[0]))\n",
        "                    \n",
        "                    gray = cv2.cvtColor(shifted,cv2.COLOR_BGR2GRAY)\n",
        "\n",
        "                    x0, y0 = np.argwhere(gray > 0).min(axis=0)\n",
        "                    x1, y1 = np.argwhere(gray > 0).max(axis=0) \n",
        "                    \n",
        "                    cropped=shifted[x0:x1,y0:y1,:]\n",
        "                    \n",
        "                    image_resized=imresize(cropped,(self.image_height,self.image_width,3))\n",
        "                    \n",
        "                    M = cv2.getRotationMatrix2D((self.image_width//2,self.image_height//2),\n",
        "                                                np.random.randint(-10,10), 1.0)\n",
        "                    rotated = cv2.warpAffine(image_resized, M, (self.image_width, self.image_height))\n",
        "                    \n",
        "                    batch_data_aug[folder,idx,:,:,0] = (rotated[:,:,0])/255\n",
        "                    batch_data_aug[folder,idx,:,:,1] = (rotated[:,:,1])/255\n",
        "                    batch_data_aug[folder,idx,:,:,2] = (rotated[:,:,2])/255\n",
        "                \n",
        "            batch_labels[folder, int(t[folder + (batch*batch_size)].strip().split(';')[2])] = 1\n",
        "    \n",
        "        if (augment):\n",
        "            batch_data=np.concatenate([batch_data,batch_data_aug])\n",
        "            batch_labels=np.concatenate([batch_labels,batch_labels])\n",
        "\n",
        "        return(batch_data,batch_labels)\n",
        "    \n",
        "    def train_model(self, model, augment_data=False):\n",
        "        train_generator = self.generator(self.path_train, self.document_train,augment=augment_data)\n",
        "        val_generator = self.generator(self.path_validation, self.document_validation)\n",
        "\n",
        "        model_name = 'gdrive/My Drive/GestureRecognition/'+'model_init' + '_' + str(datetime.datetime.now()).replace(' ','').replace(':','_') + '/'\n",
        "    \n",
        "        if not os.path.exists(model_name):\n",
        "            os.mkdir(model_name)\n",
        "        \n",
        "        filepath = model_name + 'model-{epoch:05d}-{loss:.5f}-{categorical_accuracy:.5f}-{val_loss:.5f}-{val_categorical_accuracy:.5f}.h5'\n",
        "\n",
        "        checkpoint = ModelCheckpoint(filepath, monitor='val_loss', verbose=1, save_best_only=False, save_weights_only=False, mode='auto', period=1)\n",
        "        LR = ReduceLROnPlateau(monitor='val_loss', factor=0.2, verbose=1, patience=4)\n",
        "        callbacks_list = [checkpoint, LR]\n",
        "\n",
        "        if (self.num_seq_train%self.batch_size) == 0:\n",
        "            steps_per_epoch = int(self.num_seq_train/self.batch_size)\n",
        "        else:\n",
        "            steps_per_epoch = (self.num_seq_train//self.batch_size) + 1\n",
        "\n",
        "        if (self.num_seq_validation%self.batch_size) == 0:\n",
        "            validation_steps = int(self.num_seq_validation/self.batch_size)\n",
        "        else:\n",
        "            validation_steps = (self.num_seq_validation//self.batch_size) + 1\n",
        "    \n",
        "        history=model.fit_generator(train_generator, steps_per_epoch=steps_per_epoch, epochs=self.num_epochs, verbose=1, \n",
        "                            callbacks=callbacks_list, validation_data=val_generator, \n",
        "                            validation_steps=validation_steps, class_weight=None, workers=1, initial_epoch=0)\n",
        "        return history\n",
        "        \n",
        "    @abc.abstractmethod\n",
        "    def define_model(self):\n",
        "        pass"
      ],
      "execution_count": null,
      "outputs": []
    },
    {
      "cell_type": "markdown",
      "metadata": {
        "id": "CgQs2ChT0y7u"
      },
      "source": [
        "# (3,3,3) kernel & 160x160 res with augmetation (*Model 5 as in write-up*)"
      ]
    },
    {
      "cell_type": "code",
      "metadata": {
        "id": "fLZ0Kqxw0z_C"
      },
      "source": [
        "class ModelConv3DReducedResolution(ModelBuilderMoreAugmentation):\n",
        "    \n",
        "    def define_model(self,filtersize=(3,3,3),dense_neurons=64,dropout=0.25):\n",
        "\n",
        "        model = Sequential()\n",
        "        model.add(Conv3D(16, filtersize, padding='same',\n",
        "                 input_shape=(self.sample_frames,self.image_height,self.image_width,self.channels)))\n",
        "        model.add(Activation('relu'))\n",
        "        model.add(BatchNormalization())\n",
        "        model.add(MaxPooling3D(pool_size=(2, 2, 2)))\n",
        "\n",
        "        model.add(Conv3D(32, filtersize, padding='same'))\n",
        "        model.add(Activation('relu'))\n",
        "        model.add(BatchNormalization())\n",
        "        model.add(MaxPooling3D(pool_size=(2, 2, 2)))\n",
        "\n",
        "        model.add(Conv3D(64, filtersize, padding='same'))\n",
        "        model.add(Activation('relu'))\n",
        "        model.add(BatchNormalization())\n",
        "        model.add(MaxPooling3D(pool_size=(2, 2, 2)))\n",
        "\n",
        "        model.add(Conv3D(128, filtersize, padding='same'))\n",
        "        model.add(Activation('relu'))\n",
        "        model.add(BatchNormalization())\n",
        "        model.add(MaxPooling3D(pool_size=(2, 2, 2)))\n",
        "\n",
        "        model.add(Flatten())\n",
        "        model.add(Dense(dense_neurons,activation='relu'))\n",
        "        model.add(BatchNormalization())\n",
        "        model.add(Dropout(dropout))\n",
        "\n",
        "        model.add(Dense(dense_neurons,activation='relu'))\n",
        "        model.add(BatchNormalization())\n",
        "        model.add(Dropout(dropout))\n",
        "\n",
        "\n",
        "        model.add(Dense(self.num_classes,activation='softmax'))\n",
        "\n",
        "        optimiser = optimizers.Adam(lr=0.0002)\n",
        "        model.compile(optimizer=optimiser, loss='categorical_crossentropy', metrics=['categorical_accuracy'])\n",
        "        return model"
      ],
      "execution_count": null,
      "outputs": []
    },
    {
      "cell_type": "code",
      "metadata": {
        "colab": {
          "base_uri": "https://localhost:8080/"
        },
        "id": "jdPaw3r-04a4",
        "outputId": "c2d77b46-e21b-485f-b2d2-61983c34ad8b"
      },
      "source": [
        "conv_3d_reduced_resolution = ModelConv3DReducedResolution()\n",
        "conv_3d_reduced_resolution.initialize_path(root_folder)\n",
        "conv_3d_reduced_resolution.initialize_prop_images(image_height=160, image_width=160)\n",
        "conv_3d_reduced_resolution.initialize_hyperparams(sample_frames=20, batch_size=20, num_epochs=30)\n",
        "conv_3d_reduced_resolution_model=conv_3d_reduced_resolution.define_model(dense_neurons=256, dropout=0.5)\n",
        "conv_3d_reduced_resolution_model.summary()"
      ],
      "execution_count": null,
      "outputs": [
        {
          "output_type": "stream",
          "text": [
            "Model: \"sequential_2\"\n",
            "_________________________________________________________________\n",
            "Layer (type)                 Output Shape              Param #   \n",
            "=================================================================\n",
            "conv3d_8 (Conv3D)            (None, 20, 160, 160, 16)  1312      \n",
            "_________________________________________________________________\n",
            "activation_8 (Activation)    (None, 20, 160, 160, 16)  0         \n",
            "_________________________________________________________________\n",
            "batch_normalization_12 (Batc (None, 20, 160, 160, 16)  64        \n",
            "_________________________________________________________________\n",
            "max_pooling3d_8 (MaxPooling3 (None, 10, 80, 80, 16)    0         \n",
            "_________________________________________________________________\n",
            "conv3d_9 (Conv3D)            (None, 10, 80, 80, 32)    13856     \n",
            "_________________________________________________________________\n",
            "activation_9 (Activation)    (None, 10, 80, 80, 32)    0         \n",
            "_________________________________________________________________\n",
            "batch_normalization_13 (Batc (None, 10, 80, 80, 32)    128       \n",
            "_________________________________________________________________\n",
            "max_pooling3d_9 (MaxPooling3 (None, 5, 40, 40, 32)     0         \n",
            "_________________________________________________________________\n",
            "conv3d_10 (Conv3D)           (None, 5, 40, 40, 64)     55360     \n",
            "_________________________________________________________________\n",
            "activation_10 (Activation)   (None, 5, 40, 40, 64)     0         \n",
            "_________________________________________________________________\n",
            "batch_normalization_14 (Batc (None, 5, 40, 40, 64)     256       \n",
            "_________________________________________________________________\n",
            "max_pooling3d_10 (MaxPooling (None, 2, 20, 20, 64)     0         \n",
            "_________________________________________________________________\n",
            "conv3d_11 (Conv3D)           (None, 2, 20, 20, 128)    221312    \n",
            "_________________________________________________________________\n",
            "activation_11 (Activation)   (None, 2, 20, 20, 128)    0         \n",
            "_________________________________________________________________\n",
            "batch_normalization_15 (Batc (None, 2, 20, 20, 128)    512       \n",
            "_________________________________________________________________\n",
            "max_pooling3d_11 (MaxPooling (None, 1, 10, 10, 128)    0         \n",
            "_________________________________________________________________\n",
            "flatten_2 (Flatten)          (None, 12800)             0         \n",
            "_________________________________________________________________\n",
            "dense_6 (Dense)              (None, 256)               3277056   \n",
            "_________________________________________________________________\n",
            "batch_normalization_16 (Batc (None, 256)               1024      \n",
            "_________________________________________________________________\n",
            "dropout_4 (Dropout)          (None, 256)               0         \n",
            "_________________________________________________________________\n",
            "dense_7 (Dense)              (None, 256)               65792     \n",
            "_________________________________________________________________\n",
            "batch_normalization_17 (Batc (None, 256)               1024      \n",
            "_________________________________________________________________\n",
            "dropout_5 (Dropout)          (None, 256)               0         \n",
            "_________________________________________________________________\n",
            "dense_8 (Dense)              (None, 5)                 1285      \n",
            "=================================================================\n",
            "Total params: 3,638,981\n",
            "Trainable params: 3,637,477\n",
            "Non-trainable params: 1,504\n",
            "_________________________________________________________________\n"
          ],
          "name": "stdout"
        }
      ]
    },
    {
      "cell_type": "code",
      "metadata": {
        "colab": {
          "base_uri": "https://localhost:8080/"
        },
        "id": "96qLvVEl0_YY",
        "outputId": "2aeee7b0-f747-4991-baae-97bdef4e1e9c"
      },
      "source": [
        "print(\"Prameter Count:\", conv_3d_reduced_resolution_model.count_params())\n",
        "history_model_reduced_resolution=conv_3d_reduced_resolution.train_model(conv_3d_reduced_resolution_model,augment_data=True)"
      ],
      "execution_count": null,
      "outputs": [
        {
          "output_type": "stream",
          "text": [
            "Prameter Count: 3638981\n",
            "WARNING:tensorflow:`period` argument is deprecated. Please use `save_freq` to specify the frequency in number of batches seen.\n",
            "Epoch 1/30\n",
            "34/34 [==============================] - 1986s 60s/step - loss: 2.1726 - categorical_accuracy: 0.3228 - val_loss: 2.4517 - val_categorical_accuracy: 0.1600\n",
            "\n",
            "Epoch 00001: saving model to gdrive/My Drive/GestureRecognition/model_init_2021-05-0214_01_04.473521/model-00001-1.92150-0.38084-2.45170-0.16000.h5\n",
            "Epoch 2/30\n",
            "34/34 [==============================] - 320s 10s/step - loss: 1.3644 - categorical_accuracy: 0.5169 - val_loss: 3.8960 - val_categorical_accuracy: 0.1700\n",
            "\n",
            "Epoch 00002: saving model to gdrive/My Drive/GestureRecognition/model_init_2021-05-0214_01_04.473521/model-00002-1.41042-0.52640-3.89596-0.17000.h5\n",
            "Epoch 3/30\n",
            "34/34 [==============================] - 320s 10s/step - loss: 1.2979 - categorical_accuracy: 0.5651 - val_loss: 5.2795 - val_categorical_accuracy: 0.1900\n",
            "\n",
            "Epoch 00003: saving model to gdrive/My Drive/GestureRecognition/model_init_2021-05-0214_01_04.473521/model-00003-1.33176-0.54902-5.27951-0.19000.h5\n",
            "Epoch 4/30\n",
            "34/34 [==============================] - 321s 10s/step - loss: 1.1615 - categorical_accuracy: 0.5979 - val_loss: 7.0588 - val_categorical_accuracy: 0.1500\n",
            "\n",
            "Epoch 00004: saving model to gdrive/My Drive/GestureRecognition/model_init_2021-05-0214_01_04.473521/model-00004-1.15170-0.60332-7.05880-0.15000.h5\n",
            "Epoch 5/30\n",
            "34/34 [==============================] - 321s 10s/step - loss: 0.9384 - categorical_accuracy: 0.6531 - val_loss: 7.2656 - val_categorical_accuracy: 0.1400\n",
            "\n",
            "Epoch 00005: saving model to gdrive/My Drive/GestureRecognition/model_init_2021-05-0214_01_04.473521/model-00005-0.94438-0.66667-7.26562-0.14000.h5\n",
            "\n",
            "Epoch 00005: ReduceLROnPlateau reducing learning rate to 3.9999998989515007e-05.\n",
            "Epoch 6/30\n",
            "34/34 [==============================] - 320s 10s/step - loss: 0.9135 - categorical_accuracy: 0.6858 - val_loss: 7.0041 - val_categorical_accuracy: 0.1600\n",
            "\n",
            "Epoch 00006: saving model to gdrive/My Drive/GestureRecognition/model_init_2021-05-0214_01_04.473521/model-00006-0.88762-0.68627-7.00410-0.16000.h5\n",
            "Epoch 7/30\n",
            "34/34 [==============================] - 317s 10s/step - loss: 0.6823 - categorical_accuracy: 0.7560 - val_loss: 6.8234 - val_categorical_accuracy: 0.2100\n",
            "\n",
            "Epoch 00007: saving model to gdrive/My Drive/GestureRecognition/model_init_2021-05-0214_01_04.473521/model-00007-0.76175-0.72851-6.82341-0.21000.h5\n",
            "Epoch 8/30\n",
            "34/34 [==============================] - 320s 10s/step - loss: 0.7744 - categorical_accuracy: 0.7141 - val_loss: 6.2214 - val_categorical_accuracy: 0.2000\n",
            "\n",
            "Epoch 00008: saving model to gdrive/My Drive/GestureRecognition/model_init_2021-05-0214_01_04.473521/model-00008-0.81193-0.70362-6.22141-0.20000.h5\n",
            "Epoch 9/30\n",
            "34/34 [==============================] - 318s 10s/step - loss: 0.6897 - categorical_accuracy: 0.7427 - val_loss: 6.9056 - val_categorical_accuracy: 0.2600\n",
            "\n",
            "Epoch 00009: saving model to gdrive/My Drive/GestureRecognition/model_init_2021-05-0214_01_04.473521/model-00009-0.72791-0.73303-6.90565-0.26000.h5\n",
            "\n",
            "Epoch 00009: ReduceLROnPlateau reducing learning rate to 7.999999797903002e-06.\n",
            "Epoch 10/30\n",
            "34/34 [==============================] - 318s 10s/step - loss: 0.6593 - categorical_accuracy: 0.7577 - val_loss: 5.4047 - val_categorical_accuracy: 0.3100\n",
            "\n",
            "Epoch 00010: saving model to gdrive/My Drive/GestureRecognition/model_init_2021-05-0214_01_04.473521/model-00010-0.67789-0.75113-5.40471-0.31000.h5\n",
            "Epoch 11/30\n",
            "34/34 [==============================] - 318s 10s/step - loss: 0.6972 - categorical_accuracy: 0.7482 - val_loss: 4.7716 - val_categorical_accuracy: 0.3100\n",
            "\n",
            "Epoch 00011: saving model to gdrive/My Drive/GestureRecognition/model_init_2021-05-0214_01_04.473521/model-00011-0.68500-0.75113-4.77157-0.31000.h5\n",
            "Epoch 12/30\n",
            "34/34 [==============================] - 319s 10s/step - loss: 0.6968 - categorical_accuracy: 0.7482 - val_loss: 4.0335 - val_categorical_accuracy: 0.2900\n",
            "\n",
            "Epoch 00012: saving model to gdrive/My Drive/GestureRecognition/model_init_2021-05-0214_01_04.473521/model-00012-0.68174-0.75566-4.03353-0.29000.h5\n",
            "Epoch 13/30\n",
            "34/34 [==============================] - 318s 10s/step - loss: 0.7609 - categorical_accuracy: 0.7194 - val_loss: 3.2313 - val_categorical_accuracy: 0.3600\n",
            "\n",
            "Epoch 00013: saving model to gdrive/My Drive/GestureRecognition/model_init_2021-05-0214_01_04.473521/model-00013-0.73324-0.73454-3.23130-0.36000.h5\n",
            "\n",
            "Epoch 00013: ReduceLROnPlateau reducing learning rate to 1.5999999959603884e-06.\n",
            "Epoch 14/30\n",
            "34/34 [==============================] - 325s 10s/step - loss: 0.6234 - categorical_accuracy: 0.7525 - val_loss: 2.8749 - val_categorical_accuracy: 0.3800\n",
            "\n",
            "Epoch 00014: saving model to gdrive/My Drive/GestureRecognition/model_init_2021-05-0214_01_04.473521/model-00014-0.63079-0.75792-2.87485-0.38000.h5\n",
            "Epoch 15/30\n",
            "34/34 [==============================] - 321s 10s/step - loss: 0.6175 - categorical_accuracy: 0.7753 - val_loss: 2.0912 - val_categorical_accuracy: 0.4500\n",
            "\n",
            "Epoch 00015: saving model to gdrive/My Drive/GestureRecognition/model_init_2021-05-0214_01_04.473521/model-00015-0.65277-0.75264-2.09116-0.45000.h5\n",
            "Epoch 16/30\n",
            "34/34 [==============================] - 326s 10s/step - loss: 0.6253 - categorical_accuracy: 0.7544 - val_loss: 1.7489 - val_categorical_accuracy: 0.5100\n",
            "\n",
            "Epoch 00016: saving model to gdrive/My Drive/GestureRecognition/model_init_2021-05-0214_01_04.473521/model-00016-0.67722-0.74585-1.74894-0.51000.h5\n",
            "Epoch 17/30\n",
            "34/34 [==============================] - 325s 10s/step - loss: 0.6424 - categorical_accuracy: 0.7670 - val_loss: 1.3744 - val_categorical_accuracy: 0.5600\n",
            "\n",
            "Epoch 00017: saving model to gdrive/My Drive/GestureRecognition/model_init_2021-05-0214_01_04.473521/model-00017-0.63547-0.77149-1.37435-0.56000.h5\n",
            "Epoch 18/30\n",
            "34/34 [==============================] - 325s 10s/step - loss: 0.5884 - categorical_accuracy: 0.7858 - val_loss: 1.4123 - val_categorical_accuracy: 0.5500\n",
            "\n",
            "Epoch 00018: saving model to gdrive/My Drive/GestureRecognition/model_init_2021-05-0214_01_04.473521/model-00018-0.65525-0.75867-1.41233-0.55000.h5\n",
            "Epoch 19/30\n",
            "34/34 [==============================] - 327s 10s/step - loss: 0.7394 - categorical_accuracy: 0.7363 - val_loss: 1.1499 - val_categorical_accuracy: 0.5500\n",
            "\n",
            "Epoch 00019: saving model to gdrive/My Drive/GestureRecognition/model_init_2021-05-0214_01_04.473521/model-00019-0.70604-0.73756-1.14991-0.55000.h5\n",
            "Epoch 20/30\n",
            "34/34 [==============================] - 324s 10s/step - loss: 0.7622 - categorical_accuracy: 0.6933 - val_loss: 1.0058 - val_categorical_accuracy: 0.6400\n",
            "\n",
            "Epoch 00020: saving model to gdrive/My Drive/GestureRecognition/model_init_2021-05-0214_01_04.473521/model-00020-0.67826-0.72926-1.00582-0.64000.h5\n",
            "Epoch 21/30\n",
            "34/34 [==============================] - 322s 10s/step - loss: 0.7540 - categorical_accuracy: 0.7328 - val_loss: 0.8635 - val_categorical_accuracy: 0.6900\n",
            "\n",
            "Epoch 00021: saving model to gdrive/My Drive/GestureRecognition/model_init_2021-05-0214_01_04.473521/model-00021-0.67346-0.75490-0.86351-0.69000.h5\n",
            "Epoch 22/30\n",
            "34/34 [==============================] - 319s 10s/step - loss: 0.6618 - categorical_accuracy: 0.7510 - val_loss: 0.9131 - val_categorical_accuracy: 0.7200\n",
            "\n",
            "Epoch 00022: saving model to gdrive/My Drive/GestureRecognition/model_init_2021-05-0214_01_04.473521/model-00022-0.67503-0.74962-0.91313-0.72000.h5\n",
            "Epoch 23/30\n",
            "34/34 [==============================] - 320s 10s/step - loss: 0.6982 - categorical_accuracy: 0.7636 - val_loss: 0.6916 - val_categorical_accuracy: 0.8000\n",
            "\n",
            "Epoch 00023: saving model to gdrive/My Drive/GestureRecognition/model_init_2021-05-0214_01_04.473521/model-00023-0.72013-0.75113-0.69163-0.80000.h5\n",
            "Epoch 24/30\n",
            "34/34 [==============================] - 317s 10s/step - loss: 0.7177 - categorical_accuracy: 0.7314 - val_loss: 0.7028 - val_categorical_accuracy: 0.7700\n",
            "\n",
            "Epoch 00024: saving model to gdrive/My Drive/GestureRecognition/model_init_2021-05-0214_01_04.473521/model-00024-0.71154-0.73982-0.70276-0.77000.h5\n",
            "Epoch 25/30\n",
            "34/34 [==============================] - 316s 10s/step - loss: 0.6986 - categorical_accuracy: 0.7371 - val_loss: 0.6422 - val_categorical_accuracy: 0.8200\n",
            "\n",
            "Epoch 00025: saving model to gdrive/My Drive/GestureRecognition/model_init_2021-05-0214_01_04.473521/model-00025-0.66284-0.74661-0.64219-0.82000.h5\n",
            "Epoch 26/30\n",
            "34/34 [==============================] - 319s 10s/step - loss: 0.6981 - categorical_accuracy: 0.7245 - val_loss: 0.7172 - val_categorical_accuracy: 0.7800\n",
            "\n",
            "Epoch 00026: saving model to gdrive/My Drive/GestureRecognition/model_init_2021-05-0214_01_04.473521/model-00026-0.66878-0.74133-0.71722-0.78000.h5\n",
            "Epoch 27/30\n",
            "34/34 [==============================] - 315s 10s/step - loss: 0.6104 - categorical_accuracy: 0.7828 - val_loss: 0.7548 - val_categorical_accuracy: 0.7200\n",
            "\n",
            "Epoch 00027: saving model to gdrive/My Drive/GestureRecognition/model_init_2021-05-0214_01_04.473521/model-00027-0.64926-0.76395-0.75483-0.72000.h5\n",
            "Epoch 28/30\n",
            "34/34 [==============================] - 320s 10s/step - loss: 0.7305 - categorical_accuracy: 0.7369 - val_loss: 0.7992 - val_categorical_accuracy: 0.8000\n",
            "\n",
            "Epoch 00028: saving model to gdrive/My Drive/GestureRecognition/model_init_2021-05-0214_01_04.473521/model-00028-0.71274-0.74133-0.79924-0.80000.h5\n",
            "Epoch 29/30\n",
            "34/34 [==============================] - 314s 9s/step - loss: 0.6515 - categorical_accuracy: 0.7700 - val_loss: 0.7146 - val_categorical_accuracy: 0.7000\n",
            "\n",
            "Epoch 00029: saving model to gdrive/My Drive/GestureRecognition/model_init_2021-05-0214_01_04.473521/model-00029-0.67809-0.75113-0.71456-0.70000.h5\n",
            "\n",
            "Epoch 00029: ReduceLROnPlateau reducing learning rate to 3.200000037395512e-07.\n",
            "Epoch 30/30\n",
            "34/34 [==============================] - 319s 10s/step - loss: 0.7047 - categorical_accuracy: 0.7365 - val_loss: 0.6498 - val_categorical_accuracy: 0.8000\n",
            "\n",
            "Epoch 00030: saving model to gdrive/My Drive/GestureRecognition/model_init_2021-05-0214_01_04.473521/model-00030-0.65074-0.75566-0.64985-0.80000.h5\n"
          ],
          "name": "stdout"
        }
      ]
    },
    {
      "cell_type": "code",
      "metadata": {
        "colab": {
          "base_uri": "https://localhost:8080/",
          "height": 265
        },
        "id": "sdSIkBOV1B-5",
        "outputId": "ab18dfce-247f-4c69-f0f3-c3c40ae3df92"
      },
      "source": [
        "plot(history_model_reduced_resolution)"
      ],
      "execution_count": null,
      "outputs": [
        {
          "output_type": "display_data",
          "data": {
            "image/png": "[encoded data removed]",
            "text/plain": [
              "<Figure size 1080x288 with 2 Axes>"
            ]
          },
          "metadata": {
            "tags": [],
            "needs_background": "light"
          }
        }
      ]
    },
    {
      "cell_type": "markdown",
      "metadata": {
        "id": "rJcJL9tN1LAo"
      },
      "source": [
        "# Transfer Learning on RNN-CNN model with GRU -  Final model (Best performance) - (*Model 7 as in write-up*)"
      ]
    },
    {
      "cell_type": "code",
      "metadata": {
        "colab": {
          "base_uri": "https://localhost:8080/"
        },
        "id": "P9H22wCp1Ib0",
        "outputId": "6fe58eea-796a-4e2e-dc60-ed009447467f"
      },
      "source": [
        "from keras.applications import mobilenet\n",
        "\n",
        "mobilenet_transfer = mobilenet.MobileNet(weights='imagenet', include_top=False)\n",
        "\n",
        "class RNNCNN_TL(ModelBuilderMoreAugmentation):\n",
        "    \n",
        "    def define_model(self,gru_cells=64,dense_neurons=64,dropout=0.25):\n",
        "        \n",
        "        model = Sequential()\n",
        "        model.add(TimeDistributed(mobilenet_transfer,input_shape=(self.sample_frames,self.image_height,self.image_width,self.channels)))\n",
        " \n",
        "        \n",
        "        model.add(TimeDistributed(BatchNormalization()))\n",
        "        model.add(TimeDistributed(MaxPooling2D((2, 2))))\n",
        "        model.add(TimeDistributed(Flatten()))\n",
        "\n",
        "        model.add(GRU(gru_cells))\n",
        "        model.add(Dropout(dropout))\n",
        "        \n",
        "        model.add(Dense(dense_neurons,activation='relu'))\n",
        "        model.add(Dropout(dropout))\n",
        "        \n",
        "        model.add(Dense(self.num_classes, activation='softmax'))\n",
        "        \n",
        "        \n",
        "        optimiser = optimizers.Adam()\n",
        "        model.compile(optimizer=optimiser, loss='categorical_crossentropy', metrics=['categorical_accuracy'])\n",
        "        return model"
      ],
      "execution_count": null,
      "outputs": [
        {
          "output_type": "stream",
          "text": [
            "WARNING:tensorflow:`input_shape` is undefined or non-square, or `rows` is not in [128, 160, 192, 224]. Weights for input shape (224, 224) will be loaded as the default.\n",
            "Downloading data from https://storage.googleapis.com/tensorflow/keras-applications/mobilenet/mobilenet_1_0_224_tf_no_top.h5\n",
            "17227776/17225924 [==============================] - 0s 0us/step\n"
          ],
          "name": "stdout"
        }
      ]
    },
    {
      "cell_type": "code",
      "metadata": {
        "colab": {
          "base_uri": "https://localhost:8080/"
        },
        "id": "5HUEjitwOpjA",
        "outputId": "e47b00b7-3026-4314-e001-16b4e65ee917"
      },
      "source": [
        "rnn_cnn_tl = RNNCNN_TL()\n",
        "rnn_cnn_tl.initialize_path(root_folder)\n",
        "rnn_cnn_tl.initialize_prop_images(image_height=120,image_width=120)\n",
        "rnn_cnn_tl.initialize_hyperparams(sample_frames=16,batch_size=5,num_epochs=20)\n",
        "rnn_cnn_tl_model=rnn_cnn_tl.define_model(gru_cells=128,dense_neurons=128,dropout=0.25)\n",
        "rnn_cnn_tl_model.summary()"
      ],
      "execution_count": null,
      "outputs": [
        {
          "output_type": "stream",
          "text": [
            "Model: \"sequential_3\"\n",
            "_________________________________________________________________\n",
            "Layer (type)                 Output Shape              Param #   \n",
            "=================================================================\n",
            "time_distributed (TimeDistri (None, 16, 3, 3, 1024)    3228864   \n",
            "_________________________________________________________________\n",
            "time_distributed_1 (TimeDist (None, 16, 3, 3, 1024)    4096      \n",
            "_________________________________________________________________\n",
            "time_distributed_2 (TimeDist (None, 16, 1, 1, 1024)    0         \n",
            "_________________________________________________________________\n",
            "time_distributed_3 (TimeDist (None, 16, 1024)          0         \n",
            "_________________________________________________________________\n",
            "gru (GRU)                    (None, 128)               443136    \n",
            "_________________________________________________________________\n",
            "dropout_6 (Dropout)          (None, 128)               0         \n",
            "_________________________________________________________________\n",
            "dense_9 (Dense)              (None, 128)               16512     \n",
            "_________________________________________________________________\n",
            "dropout_7 (Dropout)          (None, 128)               0         \n",
            "_________________________________________________________________\n",
            "dense_10 (Dense)             (None, 5)                 645       \n",
            "=================================================================\n",
            "Total params: 3,693,253\n",
            "Trainable params: 3,669,317\n",
            "Non-trainable params: 23,936\n",
            "_________________________________________________________________\n"
          ],
          "name": "stdout"
        }
      ]
    },
    {
      "cell_type": "code",
      "metadata": {
        "colab": {
          "base_uri": "https://localhost:8080/"
        },
        "id": "zBx9P_sTOrjp",
        "outputId": "abb855ec-69d1-4ae6-8c38-fc734aa49ec7"
      },
      "source": [
        "print(\"Paremeter Count:\", rnn_cnn_tl_model.count_params())\n",
        "history_model_rnn_cnn_tl=rnn_cnn_tl.train_model(rnn_cnn_tl_model,augment_data=True)"
      ],
      "execution_count": null,
      "outputs": [
        {
          "output_type": "stream",
          "text": [
            "Paremeter Count: 3693253\n",
            "WARNING:tensorflow:`period` argument is deprecated. Please use `save_freq` to specify the frequency in number of batches seen.\n",
            "Epoch 1/20\n",
            "133/133 [==============================] - 242s 2s/step - loss: 1.3669 - categorical_accuracy: 0.4414 - val_loss: 0.9016 - val_categorical_accuracy: 0.6900\n",
            "\n",
            "Epoch 00001: saving model to gdrive/My Drive/GestureRecognition/model_init_2021-05-0217_09_56.323457/model-00001-1.09820-0.54902-0.90158-0.69000.h5\n",
            "Epoch 2/20\n",
            "133/133 [==============================] - 234s 2s/step - loss: 0.7697 - categorical_accuracy: 0.7162 - val_loss: 0.4207 - val_categorical_accuracy: 0.8500\n",
            "\n",
            "Epoch 00002: saving model to gdrive/My Drive/GestureRecognition/model_init_2021-05-0217_09_56.323457/model-00002-0.75094-0.72247-0.42068-0.85000.h5\n",
            "Epoch 3/20\n",
            "133/133 [==============================] - 235s 2s/step - loss: 0.4915 - categorical_accuracy: 0.8108 - val_loss: 0.4291 - val_categorical_accuracy: 0.8600\n",
            "\n",
            "Epoch 00003: saving model to gdrive/My Drive/GestureRecognition/model_init_2021-05-0217_09_56.323457/model-00003-0.52109-0.82127-0.42911-0.86000.h5\n",
            "Epoch 4/20\n",
            "133/133 [==============================] - 240s 2s/step - loss: 0.4136 - categorical_accuracy: 0.8629 - val_loss: 0.4270 - val_categorical_accuracy: 0.8200\n",
            "\n",
            "Epoch 00004: saving model to gdrive/My Drive/GestureRecognition/model_init_2021-05-0217_09_56.323457/model-00004-0.43648-0.85143-0.42698-0.82000.h5\n",
            "Epoch 5/20\n",
            "133/133 [==============================] - 235s 2s/step - loss: 0.3517 - categorical_accuracy: 0.8625 - val_loss: 0.3924 - val_categorical_accuracy: 0.8400\n",
            "\n",
            "Epoch 00005: saving model to gdrive/My Drive/GestureRecognition/model_init_2021-05-0217_09_56.323457/model-00005-0.36362-0.85219-0.39239-0.84000.h5\n",
            "Epoch 6/20\n",
            "133/133 [==============================] - 234s 2s/step - loss: 0.3344 - categorical_accuracy: 0.8957 - val_loss: 0.4465 - val_categorical_accuracy: 0.8400\n",
            "\n",
            "Epoch 00006: saving model to gdrive/My Drive/GestureRecognition/model_init_2021-05-0217_09_56.323457/model-00006-0.33451-0.89065-0.44650-0.84000.h5\n",
            "Epoch 7/20\n",
            "133/133 [==============================] - 236s 2s/step - loss: 0.2614 - categorical_accuracy: 0.9105 - val_loss: 0.4650 - val_categorical_accuracy: 0.8200\n",
            "\n",
            "Epoch 00007: saving model to gdrive/My Drive/GestureRecognition/model_init_2021-05-0217_09_56.323457/model-00007-0.26476-0.91252-0.46504-0.82000.h5\n",
            "Epoch 8/20\n",
            "133/133 [==============================] - 235s 2s/step - loss: 0.1817 - categorical_accuracy: 0.9347 - val_loss: 0.7052 - val_categorical_accuracy: 0.7100\n",
            "\n",
            "Epoch 00008: saving model to gdrive/My Drive/GestureRecognition/model_init_2021-05-0217_09_56.323457/model-00008-0.23015-0.91403-0.70524-0.71000.h5\n",
            "Epoch 9/20\n",
            "133/133 [==============================] - 236s 2s/step - loss: 0.3472 - categorical_accuracy: 0.8826 - val_loss: 0.2535 - val_categorical_accuracy: 0.9100\n",
            "\n",
            "Epoch 00009: saving model to gdrive/My Drive/GestureRecognition/model_init_2021-05-0217_09_56.323457/model-00009-0.27802-0.90271-0.25351-0.91000.h5\n",
            "Epoch 10/20\n",
            "133/133 [==============================] - 234s 2s/step - loss: 0.1704 - categorical_accuracy: 0.9475 - val_loss: 0.2811 - val_categorical_accuracy: 0.9100\n",
            "\n",
            "Epoch 00010: saving model to gdrive/My Drive/GestureRecognition/model_init_2021-05-0217_09_56.323457/model-00010-0.15808-0.95475-0.28107-0.91000.h5\n",
            "Epoch 11/20\n",
            "133/133 [==============================] - 234s 2s/step - loss: 0.2132 - categorical_accuracy: 0.9247 - val_loss: 0.3389 - val_categorical_accuracy: 0.8400\n",
            "\n",
            "Epoch 00011: saving model to gdrive/My Drive/GestureRecognition/model_init_2021-05-0217_09_56.323457/model-00011-0.28080-0.90347-0.33892-0.84000.h5\n",
            "Epoch 12/20\n",
            "133/133 [==============================] - 232s 2s/step - loss: 0.2675 - categorical_accuracy: 0.9146 - val_loss: 0.2653 - val_categorical_accuracy: 0.8500\n",
            "\n",
            "Epoch 00012: saving model to gdrive/My Drive/GestureRecognition/model_init_2021-05-0217_09_56.323457/model-00012-0.25271-0.91704-0.26531-0.85000.h5\n",
            "Epoch 13/20\n",
            "133/133 [==============================] - 236s 2s/step - loss: 0.1668 - categorical_accuracy: 0.9579 - val_loss: 0.3401 - val_categorical_accuracy: 0.8700\n",
            "\n",
            "Epoch 00013: saving model to gdrive/My Drive/GestureRecognition/model_init_2021-05-0217_09_56.323457/model-00013-0.17498-0.94947-0.34008-0.87000.h5\n",
            "\n",
            "Epoch 00013: ReduceLROnPlateau reducing learning rate to 0.00020000000949949026.\n",
            "Epoch 14/20\n",
            "133/133 [==============================] - 238s 2s/step - loss: 0.0883 - categorical_accuracy: 0.9638 - val_loss: 0.2183 - val_categorical_accuracy: 0.9200\n",
            "\n",
            "Epoch 00014: saving model to gdrive/My Drive/GestureRecognition/model_init_2021-05-0217_09_56.323457/model-00014-0.10227-0.96456-0.21829-0.92000.h5\n",
            "Epoch 15/20\n",
            "133/133 [==============================] - 242s 2s/step - loss: 0.0491 - categorical_accuracy: 0.9862 - val_loss: 0.1647 - val_categorical_accuracy: 0.9400\n",
            "\n",
            "Epoch 00015: saving model to gdrive/My Drive/GestureRecognition/model_init_2021-05-0217_09_56.323457/model-00015-0.07005-0.97587-0.16469-0.94000.h5\n",
            "Epoch 16/20\n",
            "133/133 [==============================] - 244s 2s/step - loss: 0.0628 - categorical_accuracy: 0.9825 - val_loss: 0.1303 - val_categorical_accuracy: 0.9700\n",
            "\n",
            "Epoch 00016: saving model to gdrive/My Drive/GestureRecognition/model_init_2021-05-0217_09_56.323457/model-00016-0.04692-0.98492-0.13028-0.97000.h5\n",
            "Epoch 17/20\n",
            "133/133 [==============================] - 238s 2s/step - loss: 0.0546 - categorical_accuracy: 0.9844 - val_loss: 0.0964 - val_categorical_accuracy: 0.9800\n",
            "\n",
            "Epoch 00017: saving model to gdrive/My Drive/GestureRecognition/model_init_2021-05-0217_09_56.323457/model-00017-0.04606-0.98567-0.09637-0.98000.h5\n",
            "Epoch 18/20\n",
            "133/133 [==============================] - 238s 2s/step - loss: 0.0356 - categorical_accuracy: 0.9890 - val_loss: 0.1890 - val_categorical_accuracy: 0.9400\n",
            "\n",
            "Epoch 00018: saving model to gdrive/My Drive/GestureRecognition/model_init_2021-05-0217_09_56.323457/model-00018-0.03509-0.99020-0.18905-0.94000.h5\n",
            "Epoch 19/20\n",
            "133/133 [==============================] - 239s 2s/step - loss: 0.0335 - categorical_accuracy: 0.9892 - val_loss: 0.0824 - val_categorical_accuracy: 0.9800\n",
            "\n",
            "Epoch 00019: saving model to gdrive/My Drive/GestureRecognition/model_init_2021-05-0217_09_56.323457/model-00019-0.03034-0.98869-0.08239-0.98000.h5\n",
            "Epoch 20/20\n",
            "133/133 [==============================] - 242s 2s/step - loss: 0.0231 - categorical_accuracy: 0.9923 - val_loss: 0.1025 - val_categorical_accuracy: 0.9800\n",
            "\n",
            "Epoch 00020: saving model to gdrive/My Drive/GestureRecognition/model_init_2021-05-0217_09_56.323457/model-00020-0.02470-0.99170-0.10254-0.98000.h5\n"
          ],
          "name": "stdout"
        }
      ]
    },
    {
      "cell_type": "code",
      "metadata": {
        "colab": {
          "base_uri": "https://localhost:8080/",
          "height": 265
        },
        "id": "-KPOYIV2OuUR",
        "outputId": "7bb15393-08a5-4c75-d834-86d19512f671"
      },
      "source": [
        "plot(history_model_rnn_cnn_tl)"
      ],
      "execution_count": null,
      "outputs": [
        {
          "output_type": "display_data",
          "data": {
            "image/png": "[encoded data removed]",
            "text/plain": [
              "<Figure size 1080x288 with 2 Axes>"
            ]
          },
          "metadata": {
            "tags": [],
            "needs_background": "light"
          }
        }
      ]
    },
    {
      "cell_type": "markdown",
      "metadata": {
        "id": "XmVVI1WzO1gY"
      },
      "source": [
        "# Loading Model and testing"
      ]
    },
    {
      "cell_type": "code",
      "metadata": {
        "id": "-JlPgEDZPAjD"
      },
      "source": [
        "import time\n",
        "from keras.models import load_model\n",
        "model = load_model('gdrive/My Drive/GestureRecognition/model_init_2021-05-0217_09_56.323457/model-00018-0.03509-0.99020-0.18905-0.94000.h5')"
      ],
      "execution_count": null,
      "outputs": []
    },
    {
      "cell_type": "code",
      "metadata": {
        "id": "M9-0EA8mKsW1"
      },
      "source": [
        "test_generator=RNNCNN_TL()\n",
        "test_generator.initialize_path(root_folder)\n",
        "test_generator.initialize_prop_images(image_height=120,image_width=120)\n",
        "test_generator.initialize_hyperparams(sample_frames=16,batch_size=5,num_epochs=20)\n",
        "\n",
        "g=test_generator.generator(test_generator.path_validation,test_generator.document_validation,augment=False)\n",
        "batch_data, batch_labels=next(g)"
      ],
      "execution_count": null,
      "outputs": []
    },
    {
      "cell_type": "code",
      "metadata": {
        "colab": {
          "base_uri": "https://localhost:8080/"
        },
        "id": "eYB-LWmcK3GU",
        "outputId": "0f9fc0b0-22ea-48ec-cb3f-1b0edc9dbc0b"
      },
      "source": [
        "batch_labels"
      ],
      "execution_count": null,
      "outputs": [
        {
          "output_type": "execute_result",
          "data": {
            "text/plain": [
              "array([[0., 0., 1., 0., 0.],\n",
              "       [1., 0., 0., 0., 0.],\n",
              "       [0., 0., 0., 0., 1.],\n",
              "       [0., 0., 0., 0., 1.],\n",
              "       [0., 1., 0., 0., 0.]])"
            ]
          },
          "metadata": {
            "tags": []
          },
          "execution_count": 30
        }
      ]
    },
    {
      "cell_type": "code",
      "metadata": {
        "colab": {
          "base_uri": "https://localhost:8080/"
        },
        "id": "W8P1-y8oK7yN",
        "outputId": "fe194dc5-675f-4766-bf0a-48dd5d1ed56a"
      },
      "source": [
        "print(np.argmax(model.predict(batch_data[:,:,:,:,:]),axis=1))"
      ],
      "execution_count": null,
      "outputs": [
        {
          "output_type": "stream",
          "text": [
            "[2 0 4 4 0]\n"
          ],
          "name": "stdout"
        }
      ]
    },
    {
      "cell_type": "markdown",
      "metadata": {
        "id": "sfZUn8n5pFNt"
      },
      "source": [
        "##**The best model obtained was with Transfer learning on RNN-CNN model with GRU. The training accuracy obtained was of 99.23% and the validation accuracy was 98%. From the above snippet to test our model, we see that for the first batch of 5 image-sequences, 4 were correctly classified. This also verifies that we are successfully able to load the model from the disk for further reusability.** "
      ]
    },
    {
      "cell_type": "code",
      "metadata": {
        "id": "TNHmyxP9L0b7"
      },
      "source": [
        ""
      ],
      "execution_count": null,
      "outputs": []
    }
  ]
}